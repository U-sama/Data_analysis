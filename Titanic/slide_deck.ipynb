{
 "cells": [
  {
   "cell_type": "markdown",
   "metadata": {
    "slideshow": {
     "slide_type": "slide"
    }
   },
   "source": [
    "# (Passengers characteristics and chances to live during the titanic sinking )\n",
    "## by (Osama Mohamed Saad Elahwel)"
   ]
  },
  {
   "cell_type": "markdown",
   "metadata": {
    "slideshow": {
     "slide_type": "slide"
    }
   },
   "source": [
    "## Investigation Overview\n",
    "\n",
    "> In this invistigation i wanted to analyse the characteristics of passengers and how they affect passengers chances to live during the titanic sinking and the main attributes i worked on are (alive,who,age,fare,embark_town,alone)\n",
    "\n",
    "## Dataset Overview\n",
    "\n",
    "> Titanic dataset from Kaggle it consist of 891 record of passengers alive and other atrributes include age,who,sex,alone,fare,embark_town data have missing values in age column and i fixed it by replacing it with the mean of the passengers aged with the same title in their names and 3 records are deleted as they affect the fare column analysis we also droped two missing values of the embark_town column."
   ]
  },
  {
   "cell_type": "code",
   "execution_count": 5,
   "metadata": {
    "slideshow": {
     "slide_type": "skip"
    }
   },
   "outputs": [],
   "source": [
    "# import all packages and set plots to be embedded inline\n",
    "import numpy as np\n",
    "import pandas as pd\n",
    "import matplotlib.pyplot as plt\n",
    "import seaborn as sb\n",
    "\n",
    "%matplotlib inline\n",
    "\n",
    "# suppress warnings from final output\n",
    "import warnings\n",
    "warnings.simplefilter(\"ignore\")"
   ]
  },
  {
   "cell_type": "code",
   "execution_count": 7,
   "metadata": {
    "slideshow": {
     "slide_type": "skip"
    }
   },
   "outputs": [],
   "source": [
    "# load in the dataset into a pandas dataframe\n",
    "titanic = pd.read_csv('titanic.csv')"
   ]
  },
  {
   "cell_type": "code",
   "execution_count": 8,
   "metadata": {
    "slideshow": {
     "slide_type": "skip"
    }
   },
   "outputs": [],
   "source": [
    "# Add new column that indicate the embarked city by its name insted of small labels\n",
    "titanic['embark_town'] = 'NaN'\n",
    "titanic.loc[titanic.Embarked == 'S' , 'embark_town'] ='Southampton'\n",
    "titanic.loc[titanic.Embarked == 'C' , 'embark_town'] ='Cherbourg'\n",
    "titanic.loc[titanic.Embarked == 'Q' , 'embark_town'] ='Queenstown'\n",
    "\n",
    "#Making new column named alive that indicate the state of the passenger living instead of 1 and 0\n",
    "titanic['alive'] = 'NaN'\n",
    "titanic.loc[titanic.Survived == 1 , 'alive'] , titanic.loc[titanic.Survived == 0 , 'alive'] = 'yes' , 'no'\n",
    "\n",
    "#Making a new boolian column that indicate if the passenger is alone or not  \n",
    "titanic['alone'] = True\n",
    "titanic.loc[((titanic.SibSp == 0) &(titanic.Parch == 0) )  , 'alone'] , titanic.loc[titanic.SibSp != 0 , 'alone'] = True , False\n",
    "\n",
    "#Making new column that indicate the Pclass in terms on strings named class \n",
    "titanic['class'] = \"NaN\"\n",
    "titanic.loc[titanic.Pclass == 1 , 'class'] ='First'\n",
    "titanic.loc[titanic.Pclass == 2 , 'class'] ='Second'\n",
    "titanic.loc[titanic.Pclass == 3 , 'class'] ='Third'\n",
    "\n",
    "#Filling nan values in age column by mean of the title on the passengers Mr, Ms etc as they are more likely to be in the same age.\n",
    "titanic.Name = titanic.Name.str.extract(' ([A-Za-z]+)\\.')\n",
    "titanic.Age.fillna(titanic.groupby('Name')['Age'].transform('median') , inplace = True)\n",
    "\n",
    "# new column that indicate if the passenger is child, Man or woman \n",
    "titanic['who'] = 'NaN'\n",
    "titanic.loc[titanic.Age <= 15 , 'who'] ='child'\n",
    "titanic.loc[(titanic.Age > 15) & (titanic.Sex == 'male'), 'who'] ='man'\n",
    "titanic.loc[(titanic.Age > 15) & (titanic.Sex == 'female'), 'who'] ='woman'\n",
    "\n",
    "#Drop the 2 null values in the embark_town column\n",
    "titanic.drop(titanic.query(\"embark_town == 'NaN'\").index, inplace = True)\n",
    "\n",
    "#Droping unnessesary columns\n",
    "colmns = ['PassengerId' , 'Ticket' , 'Cabin' , 'Pclass' ,'Parch','SibSp' ]\n",
    "titanic.drop(colmns , axis = 1 , inplace= True)\n",
    "\n",
    "#Lowering case columns names\n",
    "titanic.columns = titanic.columns.str.lower()\n",
    "\n",
    "\n",
    "# convert class into ordered categorical type\n",
    "ordered_var = pd.api.types.CategoricalDtype(ordered = True, categories =['First' , 'Second' , 'Third'] )\n",
    "titanic['class'] = titanic['class'].astype(ordered_var)\n",
    "\n",
    "#Droping 3 outliers\n",
    "titanic.drop(titanic.query(\"fare > 500\").index , inplace= True)\n"
   ]
  },
  {
   "cell_type": "markdown",
   "metadata": {
    "slideshow": {
     "slide_type": "slide"
    }
   },
   "source": [
    "## (Alive to Death Graph)\n",
    "\n",
    ">Passsengers Whom died are more than whom lived after the Titanic crashed.\n"
   ]
  },
  {
   "cell_type": "code",
   "execution_count": 22,
   "metadata": {
    "slideshow": {
     "slide_type": "subslide"
    }
   },
   "outputs": [
    {
     "data": {
      "image/png": "[encoded data removed]",
      "text/plain": [
       "<Figure size 432x288 with 1 Axes>"
      ]
     },
     "metadata": {
      "needs_background": "light"
     },
     "output_type": "display_data"
    }
   ],
   "source": [
    "base = sb.color_palette()[0]\n",
    "sb.countplot(data = titanic , x = 'alive' , color= base )\n",
    "plt.title(\"Alive to Death\")\n",
    "plt.show()"
   ]
  },
  {
   "cell_type": "markdown",
   "metadata": {
    "collapsed": true,
    "slideshow": {
     "slide_type": "slide"
    }
   },
   "source": [
    "## (Ditribution of Passengers Classes)\n",
    "\n",
    "> There were three classes for passengers First,Second and Third class most of the passengers where in the third class as it was the cheapest one."
   ]
  },
  {
   "cell_type": "code",
   "execution_count": 30,
   "metadata": {
    "slideshow": {
     "slide_type": "subslide"
    }
   },
   "outputs": [
    {
     "data": {
      "image/png": "[encoded data removed]",
      "text/plain": [
       "<Figure size 432x288 with 1 Axes>"
      ]
     },
     "metadata": {
      "needs_background": "light"
     },
     "output_type": "display_data"
    }
   ],
   "source": [
    "default_color = sb.color_palette()[0]\n",
    "sb.countplot(data = titanic, x = 'class', color = default_color)\n",
    "plt.title(\"Ditribution of Passengers in Classes\")\n",
    "plt.show()"
   ]
  },
  {
   "cell_type": "markdown",
   "metadata": {
    "slideshow": {
     "slide_type": "slide"
    }
   },
   "source": [
    "## (Passengers Age Distribution)\n",
    "\n",
    ">Age distribution shows alot of passengers whom age start from 18 years old which is the legal age with a large spike from 30 to 33 and numbers decreased from 36 to 45 also there was some children under 12 years."
   ]
  },
  {
   "cell_type": "code",
   "execution_count": 24,
   "metadata": {
    "slideshow": {
     "slide_type": "subslide"
    }
   },
   "outputs": [
    {
     "data": {
      "image/png": "[encoded data removed]",
      "text/plain": [
       "<Figure size 1080x360 with 1 Axes>"
      ]
     },
     "metadata": {
      "needs_background": "light"
     },
     "output_type": "display_data"
    }
   ],
   "source": [
    "binsize = 2\n",
    "bins = np.arange(0, titanic.age.max()+binsize, binsize)\n",
    "\n",
    "plt.figure(figsize=[15, 5])\n",
    "plt.hist(data = titanic, x = 'age', bins = bins)\n",
    "plt.xlabel('Age')\n",
    "tic = np.arange(0,titanic.age.max()+3,3)\n",
    "plt.xticks(tic,tic)\n",
    "plt.title(\"Passengers age Distribution\")\n",
    "plt.show()"
   ]
  },
  {
   "cell_type": "markdown",
   "metadata": {
    "slideshow": {
     "slide_type": "slide"
    }
   },
   "source": [
    "## (Sex vs Alive)\n",
    "\n",
    ">Most of womens and childreen were alive after crash unlike men whom almost died, So if u were a man on titninc then u are more likely to die."
   ]
  },
  {
   "cell_type": "code",
   "execution_count": 25,
   "metadata": {
    "slideshow": {
     "slide_type": "subslide"
    }
   },
   "outputs": [
    {
     "data": {
      "image/png": "[encoded data removed]",
      "text/plain": [
       "<Figure size 432x288 with 1 Axes>"
      ]
     },
     "metadata": {
      "needs_background": "light"
     },
     "output_type": "display_data"
    }
   ],
   "source": [
    "sb.countplot(data = titanic , x = 'alive' , hue = 'who')\n",
    "plt.title(\"Passenger identity vs Alive\")\n",
    "plt.show()"
   ]
  },
  {
   "cell_type": "markdown",
   "metadata": {
    "slideshow": {
     "slide_type": "slide"
    }
   },
   "source": [
    "## (Alive vs Class)\n",
    "\n",
    ">Most of the passengers whom were in the Third class died but in First class alive passengers are more then died ones."
   ]
  },
  {
   "cell_type": "code",
   "execution_count": 26,
   "metadata": {
    "slideshow": {
     "slide_type": "subslide"
    }
   },
   "outputs": [
    {
     "data": {
      "image/png": "[encoded data removed]",
      "text/plain": [
       "<Figure size 432x288 with 1 Axes>"
      ]
     },
     "metadata": {
      "needs_background": "light"
     },
     "output_type": "display_data"
    }
   ],
   "source": [
    "sb.countplot(data = titanic , x = 'alive' , hue = 'class')\n",
    "plt.title(\"Passenger Classes vs Alive\")\n",
    "plt.show()"
   ]
  },
  {
   "cell_type": "markdown",
   "metadata": {
    "slideshow": {
     "slide_type": "slide"
    }
   },
   "source": [
    "## (Alone passengers vs Alive)\n",
    "\n",
    ">Alone passengers were more likely to die than passengers with companions."
   ]
  },
  {
   "cell_type": "code",
   "execution_count": 27,
   "metadata": {
    "slideshow": {
     "slide_type": "subslide"
    }
   },
   "outputs": [
    {
     "data": {
      "image/png": "[encoded data removed]",
      "text/plain": [
       "<Figure size 432x288 with 1 Axes>"
      ]
     },
     "metadata": {
      "needs_background": "light"
     },
     "output_type": "display_data"
    }
   ],
   "source": [
    "sb.countplot(data = titanic , hue = 'alone' , x = 'alive')\n",
    "plt.title(\"Alone Passenger vs Alive\")\n",
    "plt.show()"
   ]
  },
  {
   "cell_type": "markdown",
   "metadata": {
    "slideshow": {
     "slide_type": "slide"
    }
   },
   "source": [
    "## (Sex and Class To Alive)\n",
    "\n",
    ">Like what we found most of the men where in the third class and most of them died unlike women whom almost survived and most of them were in the first and second class."
   ]
  },
  {
   "cell_type": "code",
   "execution_count": 44,
   "metadata": {
    "slideshow": {
     "slide_type": "subslide"
    }
   },
   "outputs": [
    {
     "data": {
      "image/png": "[encoded data removed]",
      "text/plain": [
       "<Figure size 574.5x360 with 2 Axes>"
      ]
     },
     "metadata": {
      "needs_background": "light"
     },
     "output_type": "display_data"
    }
   ],
   "source": [
    "g= sb.catplot(data=titanic, x=\"class\", hue=\"sex\", col=\"survived\" , kind=\"count\",height=5, aspect=.7)\n",
    "plt.suptitle(\"Sex,Class To Alive\")\n",
    "plt.show()"
   ]
  },
  {
   "cell_type": "markdown",
   "metadata": {
    "slideshow": {
     "slide_type": "slide"
    }
   },
   "source": [
    "## (Age and class for Alive)\n",
    "\n",
    ">Younger aged paggengers of every class are more likely to live, as even if some passengers where in the first class where they had higher chance to live they may die if they were old and same for other classes."
   ]
  },
  {
   "cell_type": "code",
   "execution_count": 29,
   "metadata": {
    "slideshow": {
     "slide_type": "subslide"
    }
   },
   "outputs": [
    {
     "data": {
      "image/png": "[encoded data removed]",
      "text/plain": [
       "<Figure size 432x288 with 1 Axes>"
      ]
     },
     "metadata": {
      "needs_background": "light"
     },
     "output_type": "display_data"
    }
   ],
   "source": [
    "ax = sb.pointplot(data = titanic, x = 'alive', y = 'age', hue = 'class',dodge = 0.3, linestyles = \"\")\n",
    "plt.title(\"Passenger Age and class for Alive\")\n",
    "plt.show()"
   ]
  },
  {
   "cell_type": "markdown",
   "metadata": {
    "slideshow": {
     "slide_type": "notes"
    }
   },
   "source": [
    "> Once you're ready to finish your presentation, check your output by using\n",
    "nbconvert to export the notebook and set up a server for the slides. From the\n",
    "terminal or command line, use the following expression:\n",
    "> > `jupyter nbconvert <file_name>.ipynb --to slides --post serve --template output_toggle`\n",
    "\n",
    "> This should open a tab in your web browser where you can scroll through your\n",
    "presentation. Sub-slides can be accessed by pressing 'down' when viewing its parent\n",
    "slide. Make sure you remove all of the quote-formatted guide notes like this one\n",
    "before you finish your presentation!"
   ]
  },
  {
   "cell_type": "code",
   "execution_count": null,
   "metadata": {
    "slideshow": {
     "slide_type": "notes"
    }
   },
   "outputs": [],
   "source": [
    "#jupyter nbconvert slide_deck_template.ipynb --to slides --post serve --template output_toggle"
   ]
  }
 ],
 "metadata": {
  "celltoolbar": "Slideshow",
  "kernelspec": {
   "display_name": "Python 3",
   "language": "python",
   "name": "python3"
  },
  "language_info": {
   "codemirror_mode": {
    "name": "ipython",
    "version": 3
   },
   "file_extension": ".py",
   "mimetype": "text/x-python",
   "name": "python",
   "nbconvert_exporter": "python",
   "pygments_lexer": "ipython3",
   "version": "3.7.6"
  }
 },
 "nbformat": 4,
 "nbformat_minor": 2
}
